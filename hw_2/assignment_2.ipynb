{
  "nbformat": 4,
  "nbformat_minor": 0,
  "metadata": {
    "kernelspec": {
      "display_name": "Python 3",
      "language": "python",
      "name": "python3"
    },
    "language_info": {
      "codemirror_mode": {
        "name": "ipython",
        "version": 3
      },
      "file_extension": ".py",
      "mimetype": "text/x-python",
      "name": "python",
      "nbconvert_exporter": "python",
      "pygments_lexer": "ipython3",
      "version": "3.7.3"
    },
    "colab": {
      "name": "assignment_2.ipynb",
      "provenance": []
    }
  },
  "cells": [
    {
      "cell_type": "markdown",
      "metadata": {
        "id": "zTaAhHAC8Q2W",
        "colab_type": "text"
      },
      "source": [
        "# Assignment 2"
      ]
    },
    {
      "cell_type": "markdown",
      "metadata": {
        "id": "uex4IOfJ8Q2a",
        "colab_type": "text"
      },
      "source": [
        "Demostrate consequences of No Free Lunch Theorem: every model of machine learning makes **assumptions** about dataset properties. If the assumption fails, model perfoms badly. If the assumption is met, model perfoms good.\n",
        "\n",
        "For each of the tasks, described below:\n",
        "1. create a dataset to meet the description. For demonstration purposes, feature dimension size = 2    \n",
        "1. train the models and evaluate accuracy. (with a training pipeline, described in the seminar) \n",
        "1. Show which model is better.   \n",
        "1. Write what assumptions were used, and why model exibits such behavior.  \n",
        "1. Plot dataset to demonstrate its properties. (Scatter plot, classes with different colors)  \n",
        "\n",
        "\n",
        "Tasks:\n",
        "\n",
        "1. Create dataset for binary classification task (binary crossentropy), \n",
        "where k-NN perfoms **worse** than logistic regression\n",
        "\n",
        "2. Create dataset for binary classification task (binary crossentropy), \n",
        "where logistic regression perfoms **worse** than k-NN\n",
        "\n",
        "3. Create dataset for binary classification task (binary crossentropy), \n",
        "where k-NN with cosine distance perfoms **better** than k-NN with euclidean distance\n",
        "\n",
        "\n",
        "! If there is no explanation, why one model perfoms better than the other on your dataset, the task does not count.  \n",
        "! if the training pipeline is not used, the task does not count.  "
      ]
    },
    {
      "cell_type": "code",
      "metadata": {
        "id": "vrpXYWvM8Q2c",
        "colab_type": "code",
        "colab": {}
      },
      "source": [
        "import matplotlib.pyplot as plt\n",
        "import numpy as np\n",
        "\n",
        "from sklearn.model_selection import train_test_split\n",
        "from sklearn.model_selection import GridSearchCV\n",
        "from sklearn.metrics import accuracy_score\n",
        "from random import uniform\n",
        "\n",
        "# Fixing random state for reproducibility\n",
        "np.random.seed(19680801)"
      ],
      "execution_count": 0,
      "outputs": []
    },
    {
      "cell_type": "code",
      "metadata": {
        "id": "IXjzJK81EgIx",
        "colab_type": "code",
        "colab": {}
      },
      "source": [
        "from sklearn.neighbors import KNeighborsClassifier\n",
        "from sklearn.linear_model import LogisticRegression"
      ],
      "execution_count": 0,
      "outputs": []
    },
    {
      "cell_type": "markdown",
      "metadata": {
        "id": "51f0zdvESRi9",
        "colab_type": "text"
      },
      "source": [
        "# Задание 1"
      ]
    },
    {
      "cell_type": "markdown",
      "metadata": {
        "id": "XAMOnL1uAcRz",
        "colab_type": "text"
      },
      "source": [
        "наилучший результат для логистической регрессии будет достигаться на линейно разделимой выборке, поскольку регрессия классифицирует точки, основываясь на значении экспоненты от многочлена a_1*x_1 + ... + a_m*x_m. Метод K ближайших соседей классифицирует на основе наиболее близких объектов в обучающей выборке. Следовательно, нам нужна такая выборка, которая будет как линейно разделима для регрессии, так и с объектами разных классов, которые будут часто близкими друг к другу. Например, выборка, в которой точки в пространстве признаков X1, X2, соответствующие объектам, лежат разреженно на близко расположенных двух параллельных прямых. При этом важно, чтобы на каждой прямой находились бы точки одного класса."
      ]
    },
    {
      "cell_type": "code",
      "metadata": {
        "id": "uHHUmDZHA1l7",
        "colab_type": "code",
        "colab": {}
      },
      "source": [
        "from sklearn.datasets import make_blobs"
      ],
      "execution_count": 0,
      "outputs": []
    },
    {
      "cell_type": "code",
      "metadata": {
        "id": "PbuXcADNBBon",
        "colab_type": "code",
        "colab": {}
      },
      "source": [
        "ns = 500"
      ],
      "execution_count": 0,
      "outputs": []
    },
    {
      "cell_type": "code",
      "metadata": {
        "id": "PnXYoxhkPFtP",
        "colab_type": "code",
        "colab": {
          "base_uri": "https://localhost:8080/",
          "height": 265
        },
        "outputId": "2df48be6-5ecf-4cbb-8a9f-f749c0b51dfd"
      },
      "source": [
        "X, y = make_blobs(n_samples=ns, centers=1, random_state=0, center_box=(-0.05, 0.05))\n",
        "transformation = [[1, -1], [-0.3, 0.3]]\n",
        "G0 = np.dot(X, transformation)\n",
        "\n",
        "X, y = make_blobs(n_samples=ns, centers=1, random_state=1, center_box=(-0.05, 0.05))\n",
        "transformation = [[1, -1], [-0.3, 0.3]]\n",
        "G1 = np.dot(X, transformation)\n",
        "G1 += 0.05\n",
        "\n",
        "plt.scatter(G0[:, 0], G0[:, 1], color=\"brown\")\n",
        "plt.scatter(G1[:, 0], G1[:, 1], color=\"blue\")\n",
        "plt.show()"
      ],
      "execution_count": 7,
      "outputs": [
        {
          "output_type": "display_data",
          "data": {
            "image/png": "[encoded data removed]",
            "text/plain": [
              "<Figure size 432x288 with 1 Axes>"
            ]
          },
          "metadata": {
            "tags": []
          }
        }
      ]
    },
    {
      "cell_type": "code",
      "metadata": {
        "id": "AeWcwxFVDH_B",
        "colab_type": "code",
        "colab": {}
      },
      "source": [
        "X = np.concatenate((G0, G1))\n",
        "labels = np.concatenate((np.zeros(ns), np.ones(ns)))\n",
        "X = np.array([X[:, 0], X[:, 1], labels]).T\n",
        "np.random.shuffle(X)\n",
        "X, Y = X[:, 1:2], X[:, 2]\n",
        "X_train, X_test, Y_train, Y_test = train_test_split(X, Y, random_state=0)"
      ],
      "execution_count": 0,
      "outputs": []
    },
    {
      "cell_type": "code",
      "metadata": {
        "id": "amIpJNLkM-D_",
        "colab_type": "code",
        "colab": {
          "base_uri": "https://localhost:8080/",
          "height": 34
        },
        "outputId": "0186c7b1-2682-41d7-afba-863de557f566"
      },
      "source": [
        "gs = GridSearchCV(KNeighborsClassifier(), cv=5, param_grid={\"n_neighbors\": range(1, ns)})\n",
        "gs.fit(X_train, Y_train)\n",
        "KNN = gs.best_estimator_\n",
        "KNN.fit(X_train, Y_train)\n",
        "print(\"KNN результат\", accuracy_score(Y_test, KNN.predict(X_test)))"
      ],
      "execution_count": 11,
      "outputs": [
        {
          "output_type": "stream",
          "text": [
            "KNN результат 0.484\n"
          ],
          "name": "stdout"
        }
      ]
    },
    {
      "cell_type": "code",
      "metadata": {
        "id": "W2WEdFRCOl1e",
        "colab_type": "code",
        "colab": {
          "base_uri": "https://localhost:8080/",
          "height": 34
        },
        "outputId": "4e67a96b-da59-41d2-fe85-7d9cfdd293c7"
      },
      "source": [
        "gs = GridSearchCV(LogisticRegression(), cv=5, param_grid={\"tol\": [0.1, 0.01, 0.001], \"C\": [0.1, 1, 10, 100]})\n",
        "gs.fit(X_train, Y_train)\n",
        "LR = gs.best_estimator_\n",
        "LR.fit(X_train, Y_train)\n",
        "\n",
        "print(\"LR результат:\", accuracy_score(Y_test, LR.predict(X_test)))"
      ],
      "execution_count": 12,
      "outputs": [
        {
          "output_type": "stream",
          "text": [
            "LR результат: 0.504\n"
          ],
          "name": "stdout"
        }
      ]
    },
    {
      "cell_type": "markdown",
      "metadata": {
        "id": "q_9yWl09ShHE",
        "colab_type": "text"
      },
      "source": [
        "# Задание 2"
      ]
    },
    {
      "cell_type": "markdown",
      "metadata": {
        "id": "CNuF4sFIAbf2",
        "colab_type": "text"
      },
      "source": [
        "Метод K ближайших соседей лучше всего подходит для выборок, в которых объекты одного класса лежат близко друг к другу. Соответственно для того, чтобы получить датасет, на которой KNN будет справляться лучше, чем логистическая регрессия, необходимо сгенерировать линейно неразделимую выборку, на которой будут устойчивые скопления объектов одного класса. \n",
        "\n",
        "Мы видим, что на данной выборке KNN справляется лучше, чем регрессия"
      ]
    },
    {
      "cell_type": "code",
      "metadata": {
        "id": "zCj3AvrYz9P6",
        "colab_type": "code",
        "colab": {}
      },
      "source": [
        "from sklearn.datasets import make_circles"
      ],
      "execution_count": 0,
      "outputs": []
    },
    {
      "cell_type": "code",
      "metadata": {
        "colab_type": "code",
        "id": "L4LE4k7I_sHl",
        "colab": {
          "base_uri": "https://localhost:8080/",
          "height": 265
        },
        "outputId": "22230f24-dda1-4f32-fe6f-50c4fe382b16"
      },
      "source": [
        "X = make_circles(n_samples=ns*2, factor=.5, noise=.05, shuffle=False)\n",
        "\n",
        "G0 = X[0][:ns]\n",
        "G1 = X[0][ns:]\n",
        "\n",
        "plt.scatter(G0[:, 0], G0[:, 1], color=\"brown\")\n",
        "plt.scatter(G1[:, 0], G1[:, 1], color=\"blue\")\n",
        "plt.show()"
      ],
      "execution_count": 14,
      "outputs": [
        {
          "output_type": "display_data",
          "data": {
            "image/png": "[encoded data removed]",
            "text/plain": [
              "<Figure size 432x288 with 1 Axes>"
            ]
          },
          "metadata": {
            "tags": []
          }
        }
      ]
    },
    {
      "cell_type": "code",
      "metadata": {
        "colab_type": "code",
        "id": "5a2ITI-P_3v4",
        "colab": {}
      },
      "source": [
        "X = np.concatenate((G0, G1))\n",
        "labels = np.concatenate((np.zeros(ns), np.ones(ns)))\n",
        "X = np.array([X[:, 0], X[:, 1], labels]).T\n",
        "np.random.shuffle(X)\n",
        "X, Y = X[:, 1:2], X[:, 2]\n",
        "X_train, X_test, Y_train, Y_test = train_test_split(X, Y, random_state=0)"
      ],
      "execution_count": 0,
      "outputs": []
    },
    {
      "cell_type": "code",
      "metadata": {
        "colab_type": "code",
        "outputId": "2c17def4-5965-46d9-fc02-1899c4799bce",
        "id": "Os9F6Vn9_3v8",
        "colab": {
          "base_uri": "https://localhost:8080/",
          "height": 34
        }
      },
      "source": [
        "gs = GridSearchCV(KNeighborsClassifier(), cv=5, param_grid={\"n_neighbors\": range(1, ns)})\n",
        "gs.fit(X_train, Y_train)\n",
        "KNN = gs.best_estimator_\n",
        "KNN.fit(X_train, Y_train)\n",
        "print(\"KNN результат\", accuracy_score(Y_test, KNN.predict(X_test)))"
      ],
      "execution_count": 16,
      "outputs": [
        {
          "output_type": "stream",
          "text": [
            "KNN результат 0.828\n"
          ],
          "name": "stdout"
        }
      ]
    },
    {
      "cell_type": "code",
      "metadata": {
        "colab_type": "code",
        "outputId": "3176ada4-61e8-4bdf-89c8-ac4af1638bec",
        "id": "2Z9iizi9_3v-",
        "colab": {
          "base_uri": "https://localhost:8080/",
          "height": 34
        }
      },
      "source": [
        "gs = GridSearchCV(LogisticRegression(), cv=5, param_grid={\"tol\": [0.1, 0.01, 0.001], \"C\": [0.1, 1, 10, 100]})\n",
        "gs.fit(X_train, Y_train)\n",
        "LR = gs.best_estimator_\n",
        "LR.fit(X_train, Y_train)\n",
        "\n",
        "print(\"LR результат:\", accuracy_score(Y_test, LR.predict(X_test)))"
      ],
      "execution_count": 17,
      "outputs": [
        {
          "output_type": "stream",
          "text": [
            "LR результат: 0.364\n"
          ],
          "name": "stdout"
        }
      ]
    },
    {
      "cell_type": "markdown",
      "metadata": {
        "colab_type": "text",
        "id": "5lYT-mGvd_mM"
      },
      "source": [
        "# Задание 3"
      ]
    },
    {
      "cell_type": "markdown",
      "metadata": {
        "id": "die6aVfnAXYd",
        "colab_type": "text"
      },
      "source": [
        "k-NN с евклидовым расстоянием базируется на минимальном расстоянии между точками, в то время как k-NN с косинусным расстоянием – минимальном расстоянии между соответствующим элементам массива векторам. Например, косинусное расстояние между элементами (a, b) и (a*n, b*n) равно нулю, а евклидово расстояние коррелирует с n. Соответственно, для того, чтобы k-NN с косинусным расстоянием показывал результат лучше, необходимо сгенерировать датасет, в котором будут кластеры, которые довольно близки друг к другу, при этом в одном из них косинусное расстояние между любыми двумя точками должно быть минимальным."
      ]
    },
    {
      "cell_type": "code",
      "metadata": {
        "colab_type": "code",
        "id": "I9UL6fpqd_mg",
        "colab": {
          "base_uri": "https://localhost:8080/",
          "height": 265
        },
        "outputId": "8423dde2-e83a-434b-98d0-e2346d922d3f"
      },
      "source": [
        "num_samples = 400\n",
        "\n",
        "X, y = make_blobs(n_samples=ns, centers=1, random_state=0, center_box=(0, 0), cluster_std = 0.3)\n",
        "transformation = [[-1, -1], [0.003, -0.003]]\n",
        "G0 = np.dot(X, transformation)\n",
        "G0 -= 0.8\n",
        "\n",
        "X, y = make_blobs(n_samples=ns, centers=1, random_state=0, center_box=(0, 0), cluster_std = 0.3)\n",
        "transformation = [[-1, -0.9], [0.003, -0.003]]\n",
        "G1 = np.dot(X, transformation)\n",
        "G1 -= 0.8\n",
        "\n",
        "plt.scatter(G0[:, 0], G0[:, 1], color=\"brown\")\n",
        "plt.scatter(G1[:, 0], G1[:, 1], color=\"blue\")\n",
        "plt.show()"
      ],
      "execution_count": 18,
      "outputs": [
        {
          "output_type": "display_data",
          "data": {
            "image/png": "[encoded data removed]",
            "text/plain": [
              "<Figure size 432x288 with 1 Axes>"
            ]
          },
          "metadata": {
            "tags": []
          }
        }
      ]
    },
    {
      "cell_type": "code",
      "metadata": {
        "colab_type": "code",
        "id": "DUbGEhZWAM0K",
        "colab": {}
      },
      "source": [
        "X = np.concatenate((G0, G1))\n",
        "labels = np.concatenate((np.zeros(ns), np.ones(ns)))\n",
        "X = np.array([X[:, 0], X[:, 1], labels]).T\n",
        "np.random.shuffle(X)\n",
        "X, Y = X[:, 1:2], X[:, 2]\n",
        "X_train, X_test, Y_train, Y_test = train_test_split(X, Y, random_state=0)"
      ],
      "execution_count": 0,
      "outputs": []
    },
    {
      "cell_type": "code",
      "metadata": {
        "colab_type": "code",
        "outputId": "9951d8dd-a486-4878-d00a-defb8bc099c1",
        "id": "TyBWYvSDAM0M",
        "colab": {
          "base_uri": "https://localhost:8080/",
          "height": 34
        }
      },
      "source": [
        "gs = GridSearchCV(KNeighborsClassifier(metric=\"cosine\"), cv=5, param_grid={\"n_neighbors\": range(1, ns)})\n",
        "gs.fit(X_train, Y_train)\n",
        "KNN = gs.best_estimator_\n",
        "KNN.fit(X_train, Y_train)\n",
        "print(\"cosine результат\", accuracy_score(Y_test, KNN.predict(X_test)))"
      ],
      "execution_count": 20,
      "outputs": [
        {
          "output_type": "stream",
          "text": [
            "cosine результат 0.504\n"
          ],
          "name": "stdout"
        }
      ]
    },
    {
      "cell_type": "code",
      "metadata": {
        "colab_type": "code",
        "outputId": "add2a7ba-e796-4977-c884-58bbac1de0ca",
        "id": "EayvVMX2AM0O",
        "colab": {
          "base_uri": "https://localhost:8080/",
          "height": 34
        }
      },
      "source": [
        "gs = GridSearchCV(KNeighborsClassifier(metric=\"euclidean\"), cv=5, param_grid={\"n_neighbors\": range(1, ns)})\n",
        "gs.fit(X_train, Y_train)\n",
        "KNN = gs.best_estimator_\n",
        "KNN.fit(X_train, Y_train)\n",
        "print(\"euclidean результат\", accuracy_score(Y_test, KNN.predict(X_test)))"
      ],
      "execution_count": 21,
      "outputs": [
        {
          "output_type": "stream",
          "text": [
            "euclidean результат 0.468\n"
          ],
          "name": "stdout"
        }
      ]
    }
  ]
}